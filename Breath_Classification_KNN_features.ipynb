{
  "nbformat": 4,
  "nbformat_minor": 0,
  "metadata": {
    "colab": {
      "name": "Breath_Classification_KNN_features.ipynb",
      "provenance": [],
      "mount_file_id": "1Ls3UMkVynOcebfdCggAzel4SJfkKjrxd",
      "authorship_tag": "ABX9TyP8rULZ8KCvVHo+TEgfGqeR",
      "include_colab_link": true
    },
    "kernelspec": {
      "name": "python3",
      "display_name": "Python 3"
    },
    "language_info": {
      "name": "python"
    }
  },
  "cells": [
    {
      "cell_type": "markdown",
      "metadata": {
        "id": "view-in-github",
        "colab_type": "text"
      },
      "source": [
        "<a href=\"https://colab.research.google.com/github/JayKarhade/Breath-Classification/blob/main/Breath_Classification_KNN_features.ipynb\" target=\"_parent\"><img src=\"https://colab.research.google.com/assets/colab-badge.svg\" alt=\"Open In Colab\"/></a>"
      ]
    },
    {
      "cell_type": "code",
      "metadata": {
        "id": "08rRrT9WCfNC"
      },
      "source": [
        "import os\n",
        "import numpy as np\n",
        "from scipy.stats import mode\n",
        "from sklearn.metrics import classification_report, f1_score\n",
        "from sklearn import preprocessing\n",
        "import time\n",
        "import matplotlib.pylab as plt\n",
        "import pandas as pd "
      ],
      "execution_count": null,
      "outputs": []
    },
    {
      "cell_type": "code",
      "metadata": {
        "colab": {
          "base_uri": "https://localhost:8080/"
        },
        "id": "fmohBN42D5o6",
        "outputId": "423267e7-7e83-4085-a1cb-31680798d065"
      },
      "source": [
        "df1 = pd.read_csv('/content/drive/MyDrive/breath_detect/dataset.csv')\n",
        "df2 = pd.read_csv('/content/drive/MyDrive/breath_detect/class_labels.csv')\n",
        "x = df1.to_numpy()[:,1:390]*100000\n",
        "y = df2.to_numpy()[:,1]\n",
        "print(x.shape,y.shape)"
      ],
      "execution_count": null,
      "outputs": [
        {
          "output_type": "stream",
          "text": [
            "(455, 389) (455,)\n"
          ],
          "name": "stdout"
        }
      ]
    },
    {
      "cell_type": "code",
      "metadata": {
        "id": "L7Gew0dwD_DZ"
      },
      "source": [
        "#Shuffle data\n",
        "indices = list(range(x.shape[0]))\n",
        "np.random.shuffle(indices)\n",
        "x = x[indices]\n",
        "y=y[indices]\n",
        "#x = x.reshape(x.shape[0],x.shape[1],1)\n",
        "\n",
        "##Train-Test split\n",
        "from sklearn.model_selection import train_test_split\n",
        "#y= to_categorical(y)\n",
        "x_train_raw, x_test_raw, y_train_raw, y_test_raw = train_test_split(x,y, test_size=0.25, random_state=1)\n",
        "x_train_raw, x_val_raw, y_train_raw, y_val_raw = train_test_split(x_train_raw,y_train_raw, test_size=2/8, random_state=1)\n",
        "\n",
        "label_names = ['Normal', 'Slow', 'Fast', 'Deep']"
      ],
      "execution_count": null,
      "outputs": []
    },
    {
      "cell_type": "code",
      "metadata": {
        "colab": {
          "base_uri": "https://localhost:8080/"
        },
        "id": "X9zA-aieFadT",
        "outputId": "737d776d-9c10-4f62-84a2-481a1f7dbb29"
      },
      "source": [
        "x_test_raw.shape"
      ],
      "execution_count": null,
      "outputs": [
        {
          "output_type": "execute_result",
          "data": {
            "text/plain": [
              "(114, 389)"
            ]
          },
          "metadata": {
            "tags": []
          },
          "execution_count": 89
        }
      ]
    },
    {
      "cell_type": "code",
      "metadata": {
        "id": "mMNyUH7kEA71"
      },
      "source": [
        "import scipy.stats as st\n",
        "from scipy.fftpack import fft, fftfreq \n",
        "from scipy.signal import argrelextrema\n",
        "import operator\n",
        "\n",
        "def stat_area_features(x, Te=1.0):\n",
        "\n",
        "    mean_ts = np.mean(x, axis=1).reshape(-1,1) # mean\n",
        "    max_ts = np.amax(x, axis=1).reshape(-1,1) # max\n",
        "    min_ts = np.amin(x, axis=1).reshape(-1,1) # min\n",
        "    std_ts = np.std(x, axis=1).reshape(-1,1) # std\n",
        "    skew_ts = st.skew(x, axis=1).reshape(-1,1) # skew\n",
        "    kurtosis_ts = st.kurtosis(x, axis=1).reshape(-1,1) # kurtosis \n",
        "    iqr_ts = st.iqr(x, axis=1).reshape(-1,1) # interquartile rante\n",
        "    mad_ts = np.median(np.sort(abs(x - np.median(x, axis=1).reshape(-1,1)),\n",
        "                               axis=1), axis=1).reshape(-1,1) # median absolute deviation\n",
        "    area_ts = np.trapz(x, axis=1, dx=Te).reshape(-1,1) # area under curve\n",
        "    sq_area_ts = np.trapz(x ** 2, axis=1, dx=Te).reshape(-1,1) # area under curve ** 2\n",
        "\n",
        "    return np.concatenate((mean_ts,max_ts,min_ts,std_ts,skew_ts,kurtosis_ts,\n",
        "                           iqr_ts,mad_ts,area_ts,sq_area_ts), axis=1)\n",
        "\n",
        "def frequency_domain_features(x, Te=1.0):\n",
        "\n",
        "    # As the DFT coefficients and their corresponding frequencies are symetrical arrays\n",
        "    # with respect to the middle of the array we need to know if the number of readings \n",
        "    # in x is even or odd to then split the arrays...\n",
        "    if x.shape[1]%2 == 0:\n",
        "        N = int(x.shape[1]/2)\n",
        "    else:\n",
        "        N = int(x.shape[1]/2) - 1\n",
        "    xf = np.repeat(fftfreq(x.shape[1],d=Te)[:N].reshape(1,-1), x.shape[0], axis=0) # frequencies\n",
        "    dft = np.abs(fft(x, axis=1))[:,:N] # DFT coefficients   \n",
        "    \n",
        "    # statistical and area features\n",
        "    dft_features = stat_area_features(dft, Te=1.0)\n",
        "    # weighted mean frequency\n",
        "    dft_weighted_mean_f = np.average(xf, axis=1, weights=dft).reshape(-1,1)\n",
        "    # 5 first DFT coefficients \n",
        "    dft_first_coef = dft[:,:5]    \n",
        "    # 5 first local maxima of DFT coefficients and their corresponding frequencies\n",
        "    dft_max_coef = np.zeros((x.shape[0],5))\n",
        "    dft_max_coef_f = np.zeros((x.shape[0],5))\n",
        "    for row in range(x.shape[0]):\n",
        "        # finds all local maximas indexes\n",
        "        extrema_ind = argrelextrema(dft[row,:], np.greater, axis=0) \n",
        "        # makes a list of tuples (DFT_i, f_i) of all the local maxima\n",
        "        # and keeps the 5 biggest...\n",
        "        extrema_row = sorted([(dft[row,:][j],xf[row,j]) for j in extrema_ind[0]],\n",
        "                             key=operator.itemgetter(0), reverse=True)[:5] \n",
        "        for i, ext in enumerate(extrema_row):\n",
        "            dft_max_coef[row,i] = ext[0]\n",
        "            dft_max_coef_f[row,i] = ext[1]    \n",
        "    \n",
        "    return np.concatenate((dft_features,dft_weighted_mean_f,dft_first_coef,\n",
        "                           dft_max_coef,dft_max_coef_f), axis=1)\n",
        "\n",
        "def make_vector(x, Te=1.0):\n",
        "\n",
        "    # Raw signals :  stat and area features\n",
        "    features_xt = stat_area_features(x, Te=Te)\n",
        "    \n",
        "    # Jerk signals :  stat and area features\n",
        "    features_xt_jerk = stat_area_features((x[:,1:]-x[:,:-1])/Te, Te=Te)\n",
        "    \n",
        "    # Raw signals : frequency domain features \n",
        "    features_xf = frequency_domain_features(x, Te=1/Te)\n",
        "    \n",
        "    # Jerk signals : frequency domain features \n",
        "    features_xf_jerk = frequency_domain_features((x[:,1:]-x[:,:-1])/Te, Te=1/Te)\n",
        "        \n",
        "    return np.concatenate((features_xt, features_xt_jerk, features_xf,features_xf_jerk), axis=1)"
      ],
      "execution_count": null,
      "outputs": []
    },
    {
      "cell_type": "code",
      "metadata": {
        "colab": {
          "base_uri": "https://localhost:8080/"
        },
        "id": "QBS09kavEDoF",
        "outputId": "31762602-4059-4143-89aa-ffee2ebbf6f1"
      },
      "source": [
        "X_train = make_vector(x_train_raw, Te=1/50)\n",
        "X_test = make_vector(x_test_raw, Te=1/50)\n",
        "\n",
        "print(\"X_train shape : {}\".format(X_train.shape))\n",
        "print(\"X_test shape: {}\".format(X_test.shape))"
      ],
      "execution_count": null,
      "outputs": [
        {
          "output_type": "stream",
          "text": [
            "X_train shape : (255, 72)\n",
            "X_test shape: (114, 72)\n"
          ],
          "name": "stdout"
        }
      ]
    },
    {
      "cell_type": "code",
      "metadata": {
        "colab": {
          "base_uri": "https://localhost:8080/"
        },
        "id": "CQTwlcShFdvu",
        "outputId": "537f7c7c-9ebb-4531-a275-2fa2ff890f39"
      },
      "source": [
        "X_train.shape"
      ],
      "execution_count": null,
      "outputs": [
        {
          "output_type": "execute_result",
          "data": {
            "text/plain": [
              "(255, 72)"
            ]
          },
          "metadata": {
            "tags": []
          },
          "execution_count": 92
        }
      ]
    },
    {
      "cell_type": "code",
      "metadata": {
        "id": "jZAawnqLEHZ3"
      },
      "source": [
        "scaler = preprocessing.StandardScaler().fit(X_train)\n",
        "X_train = scaler.transform(X_train) \n",
        "X_test = scaler.transform(X_test)"
      ],
      "execution_count": null,
      "outputs": []
    },
    {
      "cell_type": "code",
      "metadata": {
        "id": "Loe08LenEaDJ"
      },
      "source": [
        "def euclidian_distance(x1,x2):\n",
        "    return np.linalg.norm(x1-x2)"
      ],
      "execution_count": null,
      "outputs": []
    },
    {
      "cell_type": "code",
      "metadata": {
        "id": "t96ZbFtwEdeR"
      },
      "source": [
        "def make_distance_matrix(X_train, X_test, w=60, distance = euclidian_distance):\n",
        "    \"\"\" This function returns the distance matrix between samples of X_train and X_tes according to a \n",
        "    similarity measure.\n",
        "    INPUTS:\n",
        "        - X_train a (n, p) numpy array with n:number of training samples and m: number of features\n",
        "        - X_test a (m, p) numpy array with m: number of test samples and m as above\n",
        "        - w DTW window\n",
        "        - distance_type the type of distance to consider for the algorithm ['euclidian', 'DTW']\n",
        "    OUTPUTS:\n",
        "        - dis_m a (m,n) numpy array with dist_m[i,j] = distance(X_test[i,:], X_train[j,:])\n",
        "    \"\"\"\n",
        "    \n",
        "    # Distance matrix calculation\n",
        "    n = X_train.shape[0]\n",
        "    m = X_test.shape[0]  \n",
        "    dist_m = np.zeros((m,n))\n",
        "    for row, test_spl in enumerate(X_test):\n",
        "        for col, train_spl in enumerate(X_train):\n",
        "            if distance == euclidian_distance:\n",
        "                dist_row_col = distance(test_spl, train_spl)\n",
        "                dist_m[row,col] = dist_row_col\n",
        "            else:\n",
        "                dist_row_col = distance(test_spl, train_spl, w)\n",
        "                dist_m[row,col] = dist_row_col                    \n",
        "    return dist_m"
      ],
      "execution_count": null,
      "outputs": []
    },
    {
      "cell_type": "code",
      "metadata": {
        "id": "pZprM459E88B"
      },
      "source": [
        "def find_k_closest(dist_m, y_train, k):\n",
        "    \"\"\" This function returns the most represented label among the k nearest neighbors of each sample from\n",
        "    X_test.\n",
        "    INPUTS:\n",
        "        - dist_m a (m,n) numpy array with dist_m[i,j] = distance(X_test[i,:], X_train[j,:])\n",
        "        - y_train a (n,) numpy array with X_train labels\n",
        "        - k number of neighbors to consider (int)\n",
        "    OUPUTS:\n",
        "        - y_pred a (m,) numpy array of predicted labels for X_test\n",
        "    \"\"\"\n",
        "    knn_indexes = np.argsort(dist_m)[:,:k]\n",
        "    knn_labels = y_train[knn_indexes]\n",
        "    y_pred = mode(knn_labels, axis=1)[0]\n",
        "    #print(y_pred,knn_indexes)\n",
        "    return y_pred"
      ],
      "execution_count": null,
      "outputs": []
    },
    {
      "cell_type": "code",
      "metadata": {
        "colab": {
          "base_uri": "https://localhost:8080/"
        },
        "id": "EiOC0KtCE_vh",
        "outputId": "8f5b942c-386d-4093-dd5a-e02b431d5e9d"
      },
      "source": [
        "start = time.time()\n",
        "dist_m = make_distance_matrix(X_train, X_test)\n",
        "stop = time.time()\n",
        "\n",
        "print(\"Execution time: {:.2f} min {:.2f} s \".format((stop-start) // 60, (stop-start) % 60))"
      ],
      "execution_count": null,
      "outputs": [
        {
          "output_type": "stream",
          "text": [
            "Execution time: 0.00 min 0.22 s \n"
          ],
          "name": "stdout"
        }
      ]
    },
    {
      "cell_type": "code",
      "metadata": {
        "colab": {
          "base_uri": "https://localhost:8080/"
        },
        "id": "-ihlAXJPFBW4",
        "outputId": "dbd3c89f-cc4d-4355-f9ca-c04ba497a1e8"
      },
      "source": [
        "k = 10\n",
        "y_pred = find_k_closest(dist_m, y_train_raw, k)\n",
        "\n",
        "print(\"Parameters:\")\n",
        "print(\"k = {}\".format(k))\n",
        "print(\"\\n\")\n",
        "\n",
        "print(\"Test set report\")\n",
        "print(classification_report(y_test_raw, y_pred, target_names=label_names))"
      ],
      "execution_count": null,
      "outputs": [
        {
          "output_type": "stream",
          "text": [
            "Parameters:\n",
            "k = 10\n",
            "\n",
            "\n",
            "Test set report\n",
            "              precision    recall  f1-score   support\n",
            "\n",
            "      Normal       0.72      0.78      0.75        23\n",
            "        Slow       0.86      0.93      0.89        27\n",
            "        Fast       0.94      0.94      0.94        36\n",
            "        Deep       0.96      0.82      0.88        28\n",
            "\n",
            "    accuracy                           0.88       114\n",
            "   macro avg       0.87      0.87      0.87       114\n",
            "weighted avg       0.88      0.88      0.88       114\n",
            "\n"
          ],
          "name": "stdout"
        }
      ]
    },
    {
      "cell_type": "code",
      "metadata": {
        "colab": {
          "base_uri": "https://localhost:8080/"
        },
        "id": "3FGK8QuWifLm",
        "outputId": "6b51d1df-fa67-4d70-e408-a2a1f4698603"
      },
      "source": [
        "correct = 0\n",
        "for i in range(y_pred.shape[0]):\n",
        "  if (y_pred[i]==y_test_raw[i]):\n",
        "    correct = correct+1\n",
        "\n",
        "print(correct)"
      ],
      "execution_count": null,
      "outputs": [
        {
          "output_type": "stream",
          "text": [
            "100\n"
          ],
          "name": "stdout"
        }
      ]
    },
    {
      "cell_type": "code",
      "metadata": {
        "id": "kNGBfD6NvPiD",
        "colab": {
          "base_uri": "https://localhost:8080/"
        },
        "outputId": "9836aa85-d97c-4d79-9a91-a72bcea92cc9"
      },
      "source": [
        "y_pred.shape"
      ],
      "execution_count": null,
      "outputs": [
        {
          "output_type": "execute_result",
          "data": {
            "text/plain": [
              "(114, 1)"
            ]
          },
          "metadata": {
            "tags": []
          },
          "execution_count": 101
        }
      ]
    },
    {
      "cell_type": "code",
      "metadata": {
        "id": "T3DfErK-vSGc"
      },
      "source": [
        ""
      ],
      "execution_count": null,
      "outputs": []
    }
  ]
}