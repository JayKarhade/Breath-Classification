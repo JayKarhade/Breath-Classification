{
  "nbformat": 4,
  "nbformat_minor": 0,
  "metadata": {
    "colab": {
      "name": "Breath_Classification_SVM.ipynb",
      "provenance": [],
      "collapsed_sections": [],
      "mount_file_id": "1bx5TbsHoFIQTcYtqfLcB9x-2C-4aZ_OE",
      "authorship_tag": "ABX9TyPme6G0b+2+dGa+fAEaR7m8",
      "include_colab_link": true
    },
    "kernelspec": {
      "name": "python3",
      "display_name": "Python 3"
    },
    "language_info": {
      "name": "python"
    }
  },
  "cells": [
    {
      "cell_type": "markdown",
      "metadata": {
        "id": "view-in-github",
        "colab_type": "text"
      },
      "source": [
        "<a href=\"https://colab.research.google.com/github/JayKarhade/Breath-Classification/blob/main/Breath_Classification_SVM.ipynb\" target=\"_parent\"><img src=\"https://colab.research.google.com/assets/colab-badge.svg\" alt=\"Open In Colab\"/></a>"
      ]
    },
    {
      "cell_type": "code",
      "metadata": {
        "id": "mAo95KC15DQE"
      },
      "source": [
        "import os\n",
        "import numpy as np\n",
        "import tensorflow as tf\n",
        "from sklearn.metrics import confusion_matrix, classification_report, f1_score\n",
        "from sklearn import preprocessing\n",
        "from sklearn import svm\n",
        "from sklearn.metrics import plot_confusion_matrix\n",
        "import matplotlib.pylab as plt\n",
        "import pandas as pd\n",
        "import sklearn\n",
        "from keras.utils import to_categorical"
      ],
      "execution_count": null,
      "outputs": []
    },
    {
      "cell_type": "code",
      "metadata": {
        "id": "AqmC5cqN5W-M",
        "colab": {
          "base_uri": "https://localhost:8080/"
        },
        "outputId": "d7c301c7-48c4-4669-a287-2c57ec3372ef"
      },
      "source": [
        "df1 = pd.read_csv('/content/drive/MyDrive/breath_detect/dataset.csv')\n",
        "df2 = pd.read_csv('/content/drive/MyDrive/breath_detect/class_labels.csv')\n",
        "x = df1.to_numpy()[:,1:390]*100000\n",
        "y = df2.to_numpy()[:,1]\n",
        "print(x.shape,y.shape)"
      ],
      "execution_count": null,
      "outputs": [
        {
          "output_type": "stream",
          "text": [
            "(455, 389) (455,)\n"
          ],
          "name": "stdout"
        }
      ]
    },
    {
      "cell_type": "code",
      "metadata": {
        "id": "YWV7QCBG6Q5W"
      },
      "source": [
        "#Shuffle data\n",
        "indices = list(range(x.shape[0]))\n",
        "np.random.shuffle(indices)\n",
        "x = x[indices]\n",
        "y=y[indices]\n",
        "#x = x.reshape(x.shape[0],x.shape[1],1)\n",
        "\n",
        "##Train-Test split\n",
        "from sklearn.model_selection import train_test_split\n",
        "#y= to_categorical(y)\n",
        "x_train_raw, x_test_raw, y_train_raw, y_test_raw = train_test_split(x,y, test_size=0.25, random_state=1)\n",
        "x_train_raw, x_val_raw, y_train_raw, y_val_raw = train_test_split(x_train_raw,y_train_raw, test_size=2/8, random_state=1)\n",
        "\n",
        "label_names = ['Normal', 'Slow', 'Fast', 'Deep']"
      ],
      "execution_count": null,
      "outputs": []
    },
    {
      "cell_type": "code",
      "metadata": {
        "colab": {
          "base_uri": "https://localhost:8080/"
        },
        "id": "IFRsjuFdAwgk",
        "outputId": "4e5cdde5-5694-4072-896a-79a5815630c4"
      },
      "source": [
        "y_train_raw.shape"
      ],
      "execution_count": null,
      "outputs": [
        {
          "output_type": "execute_result",
          "data": {
            "text/plain": [
              "(255,)"
            ]
          },
          "metadata": {
            "tags": []
          },
          "execution_count": 4
        }
      ]
    },
    {
      "cell_type": "code",
      "metadata": {
        "id": "2P-lKuyO7Skn"
      },
      "source": [
        "import scipy.stats as st\n",
        "from scipy.fftpack import fft, fftfreq \n",
        "from scipy.signal import argrelextrema\n",
        "import operator\n",
        "\n",
        "def stat_area_features(x, Te=1.0):\n",
        "\n",
        "    mean_ts = np.mean(x, axis=1).reshape(-1,1) # mean\n",
        "    max_ts = np.amax(x, axis=1).reshape(-1,1) # max\n",
        "    min_ts = np.amin(x, axis=1).reshape(-1,1) # min\n",
        "    std_ts = np.std(x, axis=1).reshape(-1,1) # std\n",
        "    skew_ts = st.skew(x, axis=1).reshape(-1,1) # skew\n",
        "    kurtosis_ts = st.kurtosis(x, axis=1).reshape(-1,1) # kurtosis \n",
        "    iqr_ts = st.iqr(x, axis=1).reshape(-1,1) # interquartile rante\n",
        "    mad_ts = np.median(np.sort(abs(x - np.median(x, axis=1).reshape(-1,1)),\n",
        "                               axis=1), axis=1).reshape(-1,1) # median absolute deviation\n",
        "    area_ts = np.trapz(x, axis=1, dx=Te).reshape(-1,1) # area under curve\n",
        "    sq_area_ts = np.trapz(x ** 2, axis=1, dx=Te).reshape(-1,1) # area under curve ** 2\n",
        "\n",
        "    return np.concatenate((mean_ts,max_ts,min_ts,std_ts,skew_ts,kurtosis_ts,\n",
        "                           iqr_ts,mad_ts,area_ts,sq_area_ts), axis=1)\n",
        "\n",
        "def frequency_domain_features(x, Te=1.0):\n",
        "\n",
        "    # As the DFT coefficients and their corresponding frequencies are symetrical arrays\n",
        "    # with respect to the middle of the array we need to know if the number of readings \n",
        "    # in x is even or odd to then split the arrays...\n",
        "    if x.shape[1]%2 == 0:\n",
        "        N = int(x.shape[1]/2)\n",
        "    else:\n",
        "        N = int(x.shape[1]/2) - 1\n",
        "    xf = np.repeat(fftfreq(x.shape[1],d=Te)[:N].reshape(1,-1), x.shape[0], axis=0) # frequencies\n",
        "    dft = np.abs(fft(x, axis=1))[:,:N] # DFT coefficients   \n",
        "    \n",
        "    # statistical and area features\n",
        "    dft_features = stat_area_features(dft, Te=1.0)\n",
        "    # weighted mean frequency\n",
        "    dft_weighted_mean_f = np.average(xf, axis=1, weights=dft).reshape(-1,1)\n",
        "    # 5 first DFT coefficients \n",
        "    dft_first_coef = dft[:,:5]    \n",
        "    # 5 first local maxima of DFT coefficients and their corresponding frequencies\n",
        "    dft_max_coef = np.zeros((x.shape[0],5))\n",
        "    dft_max_coef_f = np.zeros((x.shape[0],5))\n",
        "    for row in range(x.shape[0]):\n",
        "        # finds all local maximas indexes\n",
        "        extrema_ind = argrelextrema(dft[row,:], np.greater, axis=0) \n",
        "        # makes a list of tuples (DFT_i, f_i) of all the local maxima\n",
        "        # and keeps the 5 biggest...\n",
        "        extrema_row = sorted([(dft[row,:][j],xf[row,j]) for j in extrema_ind[0]],\n",
        "                             key=operator.itemgetter(0), reverse=True)[:5] \n",
        "        for i, ext in enumerate(extrema_row):\n",
        "            dft_max_coef[row,i] = ext[0]\n",
        "            dft_max_coef_f[row,i] = ext[1]    \n",
        "    \n",
        "    return np.concatenate((dft_features,dft_weighted_mean_f,dft_first_coef,\n",
        "                           dft_max_coef,dft_max_coef_f), axis=1)\n",
        "\n",
        "def make_feature_vector(x, Te=1.0):\n",
        "\n",
        "    # Raw signals :  stat and area features\n",
        "    features_xt = stat_area_features(x, Te=Te)\n",
        "    \n",
        "    # Jerk signals :  stat and area features\n",
        "    features_xt_jerk = stat_area_features((x[:,1:]-x[:,:-1])/Te, Te=Te)\n",
        "    \n",
        "    # Raw signals : frequency domain features \n",
        "    features_xf = frequency_domain_features(x, Te=1/Te)\n",
        "    \n",
        "    # Jerk signals : frequency domain features \n",
        "    features_xf_jerk = frequency_domain_features((x[:,1:]-x[:,:-1])/Te, Te=1/Te)\n",
        "        \n",
        "    return np.concatenate((features_xt, features_xt_jerk, features_xf,features_xf_jerk), axis=1)"
      ],
      "execution_count": null,
      "outputs": []
    },
    {
      "cell_type": "code",
      "metadata": {
        "id": "T0Q-Ce547zRw"
      },
      "source": [
        "X_train = make_feature_vector(x_train_raw, Te=1/50)\n",
        "X_test = make_feature_vector(x_test_raw, Te=1/50)\n",
        "\n",
        "print(\"X_train shape : {}\".format(X_train.shape))\n",
        "print(\"X_test shape: {}\".format(X_test.shape))"
      ],
      "execution_count": null,
      "outputs": []
    },
    {
      "cell_type": "code",
      "metadata": {
        "id": "rEXoP4jK9Edz"
      },
      "source": [
        "scaler = preprocessing.StandardScaler().fit(X_train)\n",
        "X_train = scaler.transform(X_train) \n",
        "X_test = scaler.transform(X_test)"
      ],
      "execution_count": null,
      "outputs": []
    },
    {
      "cell_type": "code",
      "metadata": {
        "id": "ZUdgGPJf9Inp"
      },
      "source": [
        "def hyperparameters_opt_RBF(X_train, y_train, X_test, y_test,\n",
        "                            param_range_C, param_range_gamma):\n",
        "\n",
        "    accuracy_matrix = np.zeros((param_range_C.shape[0],param_range_gamma.shape[0]))\n",
        "    for i,C in enumerate(param_range_C):\n",
        "        for j,gamma in enumerate(param_range_gamma):\n",
        "            clf_r_l = svm.SVC(kernel='rbf', C=C, gamma=gamma)\n",
        "            clf_r_l.fit(X_train, y_train)\n",
        "            accuracy_matrix[i,j] = f1_score(y_test ,clf_r_l.predict(X_test), average='macro')\n",
        "    C_ind, gamma_ind = np.unravel_index(np.argmax(accuracy_matrix), accuracy_matrix.shape)\n",
        "\n",
        "    return param_range_C[C_ind], param_range_gamma[gamma_ind]"
      ],
      "execution_count": null,
      "outputs": []
    },
    {
      "cell_type": "code",
      "metadata": {
        "colab": {
          "base_uri": "https://localhost:8080/",
          "height": 1000
        },
        "id": "mvVh0SvU9Mg2",
        "outputId": "f261f2ad-a433-4d25-a2fa-02a5596bc9dd"
      },
      "source": [
        "# C and gamma test range\n",
        "param_range = np.array([0.01, 0.1, 1, 10, 100, 1000])\n",
        "# Optimizing C and gamma parameters to achieve the best f1 score \n",
        "C, gamma = hyperparameters_opt_RBF(x_train_raw,y_train_raw, x_test_raw, y_test_raw, param_range, param_range)\n",
        "\n",
        "print(\"Hyperparameters optimization results:\")\n",
        "print(\"C: {}\".format(C))\n",
        "print(\"gamma: {}\".format(gamma))\n",
        "print(\"\\n\")\n",
        "\n",
        "# Training the model with the optimized hyperparameters\n",
        "clf_r_l = svm.SVC(kernel='rbf', C=C, gamma=gamma)\n",
        "clf_r_l.fit(x_train_raw, y_train_raw)\n",
        "y_pred_tr = clf_r_l.predict(x_train_raw)\n",
        "y_pred_te = clf_r_l.predict(x_test_raw)\n",
        "\n",
        "print('Training set report')\n",
        "print(classification_report(y_train_raw, y_pred_tr, target_names=label_names))\n",
        "print('Test set report')\n",
        "print(classification_report(y_test_raw, y_pred_te, target_names=label_names))\n",
        "\n",
        "plt.figure(1)\n",
        "#plot_confusion_matrix(confusion_matrix(y_train_raw, y_pred_tr), label_names)\n",
        "plot_confusion_matrix(clf_r_l,x_train_raw,y_train_raw,display_labels=label_names)\n",
        "plt.figure(2)\n",
        "#sklearn.metrics.plot_confusion_matrix(confusion_matrix(y_test_raw, y_pred_te), label_names)\n",
        "plot_confusion_matrix(clf_r_l,x_test_raw,y_test_raw,display_labels=label_names)\n",
        "plt.show()"
      ],
      "execution_count": null,
      "outputs": [
        {
          "output_type": "stream",
          "text": [
            "Hyperparameters optimization results:\n",
            "C: 100.0\n",
            "gamma: 1.0\n",
            "\n",
            "\n",
            "Training set report\n",
            "              precision    recall  f1-score   support\n",
            "\n",
            "      Normal       1.00      0.51      0.68        49\n",
            "        Slow       0.64      0.98      0.77        56\n",
            "        Fast       1.00      0.93      0.97        91\n",
            "        Deep       0.98      0.98      0.98        59\n",
            "\n",
            "    accuracy                           0.87       255\n",
            "   macro avg       0.91      0.85      0.85       255\n",
            "weighted avg       0.92      0.87      0.87       255\n",
            "\n",
            "Test set report\n",
            "              precision    recall  f1-score   support\n",
            "\n",
            "      Normal       0.83      0.31      0.45        32\n",
            "        Slow       0.55      0.93      0.69        29\n",
            "        Fast       0.84      0.82      0.83        33\n",
            "        Deep       0.81      0.85      0.83        20\n",
            "\n",
            "    accuracy                           0.71       114\n",
            "   macro avg       0.76      0.73      0.70       114\n",
            "weighted avg       0.76      0.71      0.69       114\n",
            "\n"
          ],
          "name": "stdout"
        },
        {
          "output_type": "display_data",
          "data": {
            "text/plain": [
              "<Figure size 432x288 with 0 Axes>"
            ]
          },
          "metadata": {
            "tags": []
          }
        },
        {
          "output_type": "display_data",
          "data": {
            "image/png": "[encoded data removed]",
            "text/plain": [
              "<Figure size 432x288 with 2 Axes>"
            ]
          },
          "metadata": {
            "tags": [],
            "needs_background": "light"
          }
        },
        {
          "output_type": "display_data",
          "data": {
            "image/png": "[encoded data removed]",
            "text/plain": [
              "<Figure size 432x288 with 2 Axes>"
            ]
          },
          "metadata": {
            "tags": [],
            "needs_background": "light"
          }
        }
      ]
    },
    {
      "cell_type": "code",
      "metadata": {
        "id": "9uq_GUSgPEtB",
        "colab": {
          "base_uri": "https://localhost:8080/"
        },
        "outputId": "5cafd98f-2c78-4e9f-a5f3-453808cb8e52"
      },
      "source": [
        "correct = 0\n",
        "for i in range(y_pred_te.shape[0]):\n",
        "  if (y_pred_te[i]==y_test_raw[i]):\n",
        "    correct = correct+1\n",
        "\n",
        "print(correct)"
      ],
      "execution_count": null,
      "outputs": [
        {
          "output_type": "stream",
          "text": [
            "81\n"
          ],
          "name": "stdout"
        }
      ]
    },
    {
      "cell_type": "code",
      "metadata": {
        "colab": {
          "base_uri": "https://localhost:8080/"
        },
        "id": "AP6s45kMwoti",
        "outputId": "35cbc659-8f10-4342-dcc1-916d025f97e7"
      },
      "source": [
        "y_pred_te.shape"
      ],
      "execution_count": null,
      "outputs": [
        {
          "output_type": "execute_result",
          "data": {
            "text/plain": [
              "(114,)"
            ]
          },
          "metadata": {
            "tags": []
          },
          "execution_count": 12
        }
      ]
    },
    {
      "cell_type": "code",
      "metadata": {
        "id": "_wqGuDKRwwQw"
      },
      "source": [
        ""
      ],
      "execution_count": null,
      "outputs": []
    }
  ]
}