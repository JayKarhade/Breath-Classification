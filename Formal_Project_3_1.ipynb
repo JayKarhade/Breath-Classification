{
  "nbformat": 4,
  "nbformat_minor": 0,
  "metadata": {
    "colab": {
      "name": "Formal_Project_3_1.ipynb",
      "provenance": [],
      "collapsed_sections": [],
      "mount_file_id": "1VgmP1F06iMmWvfeOxxX5VxPHbDIrRmxn",
      "authorship_tag": "ABX9TyOQq7Zf+xS1m6dx1npPDpkc",
      "include_colab_link": true
    },
    "kernelspec": {
      "display_name": "Python 3",
      "name": "python3"
    }
  },
  "cells": [
    {
      "cell_type": "markdown",
      "metadata": {
        "id": "view-in-github",
        "colab_type": "text"
      },
      "source": [
        "<a href=\"https://colab.research.google.com/github/JayKarhade/Breath-Classification/blob/main/Formal_Project_3_1.ipynb\" target=\"_parent\"><img src=\"https://colab.research.google.com/assets/colab-badge.svg\" alt=\"Open In Colab\"/></a>"
      ]
    },
    {
      "cell_type": "markdown",
      "metadata": {
        "id": "bmuKTJHJcjjW"
      },
      "source": [
        "**Binary Classification (Normal vs Slow)**"
      ]
    },
    {
      "cell_type": "code",
      "metadata": {
        "colab": {
          "resources": {
            "http://localhost:8080/nbextensions/google.colab/files.js": {
              "data": "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",
              "headers": [
                [
                  "content-type",
                  "application/javascript"
                ]
              ],
              "ok": true,
              "status": 200,
              "status_text": ""
            }
          },
          "base_uri": "https://localhost:8080/",
          "height": 73
        },
        "id": "JZTrxIfTVx7_",
        "outputId": "8d6dbfbc-6993-4836-c5e9-24d5d79f2771"
      },
      "source": [
        "#importing necessary for excel dataset upload\n",
        "import pandas as pd\n",
        "import numpy as np\n",
        "from google.colab import files\n",
        "import io\n",
        "uploaded = files.upload()\n",
        "df1 = pd.read_csv(io.StringIO(uploaded['data1.csv'].decode('utf-8')),header=None)\n",
        "#df1.sample(frac=1)"
      ],
      "execution_count": null,
      "outputs": [
        {
          "output_type": "display_data",
          "data": {
            "text/html": [
              "\n",
              "     <input type=\"file\" id=\"files-5350247d-737c-4a1d-9f57-ed713cd20bc5\" name=\"files[]\" multiple disabled\n",
              "        style=\"border:none\" />\n",
              "     <output id=\"result-5350247d-737c-4a1d-9f57-ed713cd20bc5\">\n",
              "      Upload widget is only available when the cell has been executed in the\n",
              "      current browser session. Please rerun this cell to enable.\n",
              "      </output>\n",
              "      <script src=\"/nbextensions/google.colab/files.js\"></script> "
            ],
            "text/plain": [
              "<IPython.core.display.HTML object>"
            ]
          },
          "metadata": {
            "tags": []
          }
        },
        {
          "output_type": "stream",
          "text": [
            "Saving data1.csv to data1.csv\n"
          ],
          "name": "stdout"
        }
      ]
    },
    {
      "cell_type": "code",
      "metadata": {
        "id": "8L_ePsd8ZGPu"
      },
      "source": [
        "df1 = df1.sample(frac=1)"
      ],
      "execution_count": null,
      "outputs": []
    },
    {
      "cell_type": "code",
      "metadata": {
        "id": "7AgpiMMDe-lh"
      },
      "source": [
        "z = df1.to_numpy()[1:,:]"
      ],
      "execution_count": null,
      "outputs": []
    },
    {
      "cell_type": "code",
      "metadata": {
        "colab": {
          "base_uri": "https://localhost:8080/"
        },
        "id": "_fNkeMFjY4mb",
        "outputId": "cfa1ab02-afe1-40a6-c788-f5083429c98a"
      },
      "source": [
        "#Debug step\n",
        "y = z[:,421]\n",
        "y"
      ],
      "execution_count": null,
      "outputs": [
        {
          "output_type": "execute_result",
          "data": {
            "text/plain": [
              "array([0., 0., 0., 0., 0., 0., 0., 1., 0., 0., 0., 0., 0., 0., 1., 1., 0.,\n",
              "       1., 1., 1., 0., 0., 0., 1., 1., 1., 1., 0., 0., 0., 0., 0., 0., 0.,\n",
              "       0., 1., 1., 0., 0., 0., 0., 0., 0., 1., 0., 1., 0., 1., 0., 0., 0.,\n",
              "       0., 1., 0., 0., 0., 0., 1., 1., 0., 1., 1., 0., 1., 0., 1., 0., 0.,\n",
              "       0., 0., 0., 0., 1., 1., 0., 0., 1., 0., 0., 0., 0., 1., 1., 0., 0.,\n",
              "       0., 0., 1., 0., 0., 0., 0., 1., 0., 1., 0., 0., 0., 0., 0., 0., 0.,\n",
              "       0., 0., 0., 0., 0., 1., 0., 1., 1., 0., 0., 0., 1., 0., 1., 1., 0.,\n",
              "       0., 1., 0., 1., 0., 0., 0., 1., 1., 1., 0., 1., 1., 1., 1., 1., 0.,\n",
              "       1., 0., 0., 0., 1., 0., 0., 0., 0., 0., 0., 0., 1.])"
            ]
          },
          "metadata": {
            "tags": []
          },
          "execution_count": 4
        }
      ]
    },
    {
      "cell_type": "code",
      "metadata": {
        "id": "MzOmBGfXcug_"
      },
      "source": [
        "from keras.utils import to_categorical\n",
        "\n",
        "#Splitting Dataset into train and test\n",
        "#Assuming 1000 entries\n",
        "##200 time steps in each row\n",
        "\n",
        "arr_df1 = z.copy()\n",
        "#80-20 train-test split\n",
        "train = arr_df1[:100,:].copy()\n",
        "test = arr_df1[80:100,:].copy()\n",
        "\n",
        "train_x = train[:,:421].copy()\n",
        "#train_x = (train_x-np.min(train_x))/(np.max(train_x)-np.min(train_x))\n",
        "test_x = test[:,:421].copy()\n",
        "train_y = train[:,421].copy()\n",
        "test_y = test[:,421].copy()\n",
        "\n",
        "##One-hot encoding\n",
        "\n",
        "train_y = to_categorical(train_y)\n",
        "test_y = to_categorical(test_y)"
      ],
      "execution_count": null,
      "outputs": []
    },
    {
      "cell_type": "code",
      "metadata": {
        "colab": {
          "base_uri": "https://localhost:8080/"
        },
        "id": "DMf50VmVeocX",
        "outputId": "7a9c1ebd-d267-4c1f-8cc0-d9709071540f"
      },
      "source": [
        "train_y.shape"
      ],
      "execution_count": null,
      "outputs": [
        {
          "output_type": "execute_result",
          "data": {
            "text/plain": [
              "(100, 2)"
            ]
          },
          "metadata": {
            "tags": []
          },
          "execution_count": 6
        }
      ]
    },
    {
      "cell_type": "code",
      "metadata": {
        "id": "LS-RLtyB-41Y"
      },
      "source": [
        "##Reshaping data\n",
        "\n",
        "train_x = train_x.reshape(train_x.shape[0],train_x.shape[1],1)\n",
        "test_x = test_x.reshape(test_x.shape[0],test_x.shape[1],1)\n"
      ],
      "execution_count": null,
      "outputs": []
    },
    {
      "cell_type": "code",
      "metadata": {
        "id": "G_awx-kzZ6sn"
      },
      "source": [
        "# cnn model\n",
        "from numpy import mean\n",
        "from numpy import std\n",
        "from numpy import dstack\n",
        "from pandas import read_csv\n",
        "from matplotlib import pyplot\n",
        "from keras.models import Sequential\n",
        "from keras.layers import Dense\n",
        "from keras.layers import Flatten\n",
        "from keras.layers import Dropout\n",
        "from keras.layers.convolutional import Conv1D\n",
        "from keras.layers.convolutional import MaxPooling1D\n",
        "from keras.utils import to_categorical\n",
        "import sklearn\n",
        "import keras\n",
        "from keras.models import Model\n",
        "from keras.models import Sequential\n",
        "from keras.layers import Convolution1D, ZeroPadding1D, MaxPooling1D, BatchNormalization, Activation, Dropout, Flatten, Dense\n",
        "from keras.regularizers import l2"
      ],
      "execution_count": null,
      "outputs": []
    },
    {
      "cell_type": "code",
      "metadata": {
        "id": "hyujgDRsqBPX"
      },
      "source": [
        "from keras import backend as K\n",
        "\n",
        "def root_mean_squared_error(y_true, y_pred):\n",
        "        return K.sqrt(K.mean(K.square(y_pred - y_true), axis=-1)) "
      ],
      "execution_count": null,
      "outputs": []
    },
    {
      "cell_type": "code",
      "metadata": {
        "colab": {
          "base_uri": "https://localhost:8080/"
        },
        "id": "ExzyygtMfr5j",
        "outputId": "c8b5303c-b0d9-4767-f1ba-3b9840ef8ebf"
      },
      "source": [
        "##Important parameters\n",
        "\n",
        "epochs = 100\n",
        "input_s= (train_x.shape[1],1)\n",
        "\n",
        "##Assume each row is 420 time steps \n",
        "#Sample-Current-Model \n",
        "#I/P-->1DConvLayer-->BatchNormalization-->MaxPool-->1DConvLayer-->BatchNormalization-->MaxPool-->Flattenlayer-->Dense-->Dense-->Dense-->Dense-->O/p\n",
        "\n",
        "model = Sequential()\n",
        "\n",
        "model.add(Conv1D(filters=20, kernel_size=7, activation='relu',input_shape=(input_s)))\n",
        "model.add(MaxPooling1D(pool_size=3, strides = 3))\n",
        "model.add(Conv1D(filters=60, kernel_size=7, activation='relu'))\n",
        "model.add(Dropout(0.7))\n",
        "model.add(MaxPooling1D(pool_size=3, strides = 3))\n",
        "model.add(Conv1D(filters=120, kernel_size=7,))\n",
        "model.add(Conv1D(filters=120,kernel_size=7,))\n",
        "model.add(Flatten())\n",
        "model.add(Dense(2000, activation='relu'))\n",
        "model.add(Dense(700, activation='relu'))\n",
        "model.add(Dense(50,activation='relu'))\n",
        "model.add(Dense(2,activation='softmax'))\n",
        "\n",
        "###End of model definition\n",
        "print(model.summary())\n",
        "#Set loss function\n",
        "opt = keras.optimizers.Adam(lr=0.00005)\n",
        "model.compile(loss='categorical_crossentropy', optimizer=opt, metrics=['accuracy'])\n",
        "\n",
        "##Training and fitting the model\n",
        "model.fit(train_x, train_y,epochs=30,verbose=1)\n",
        "K.clear_session()"
      ],
      "execution_count": null,
      "outputs": [
        {
          "output_type": "stream",
          "text": [
            "Model: \"sequential_1\"\n",
            "_________________________________________________________________\n",
            "Layer (type)                 Output Shape              Param #   \n",
            "=================================================================\n",
            "conv1d_4 (Conv1D)            (None, 415, 20)           160       \n",
            "_________________________________________________________________\n",
            "max_pooling1d_2 (MaxPooling1 (None, 138, 20)           0         \n",
            "_________________________________________________________________\n",
            "conv1d_5 (Conv1D)            (None, 132, 60)           8460      \n",
            "_________________________________________________________________\n",
            "dropout_1 (Dropout)          (None, 132, 60)           0         \n",
            "_________________________________________________________________\n",
            "max_pooling1d_3 (MaxPooling1 (None, 44, 60)            0         \n",
            "_________________________________________________________________\n",
            "conv1d_6 (Conv1D)            (None, 38, 120)           50520     \n",
            "_________________________________________________________________\n",
            "conv1d_7 (Conv1D)            (None, 32, 120)           100920    \n",
            "_________________________________________________________________\n",
            "flatten_1 (Flatten)          (None, 3840)              0         \n",
            "_________________________________________________________________\n",
            "dense_4 (Dense)              (None, 2000)              7682000   \n",
            "_________________________________________________________________\n",
            "dense_5 (Dense)              (None, 700)               1400700   \n",
            "_________________________________________________________________\n",
            "dense_6 (Dense)              (None, 50)                35050     \n",
            "_________________________________________________________________\n",
            "dense_7 (Dense)              (None, 2)                 102       \n",
            "=================================================================\n",
            "Total params: 9,277,912\n",
            "Trainable params: 9,277,912\n",
            "Non-trainable params: 0\n",
            "_________________________________________________________________\n",
            "None\n",
            "Epoch 1/30\n",
            "4/4 [==============================] - 0s 98ms/step - loss: 0.6927 - accuracy: 0.3300\n",
            "Epoch 2/30\n",
            "4/4 [==============================] - 0s 95ms/step - loss: 0.6925 - accuracy: 0.4300\n",
            "Epoch 3/30\n",
            "4/4 [==============================] - 0s 96ms/step - loss: 0.6842 - accuracy: 0.6600\n",
            "Epoch 4/30\n",
            "4/4 [==============================] - 0s 96ms/step - loss: 0.6788 - accuracy: 0.7600\n",
            "Epoch 5/30\n",
            "4/4 [==============================] - 0s 98ms/step - loss: 0.6649 - accuracy: 0.8900\n",
            "Epoch 6/30\n",
            "4/4 [==============================] - 0s 96ms/step - loss: 0.6570 - accuracy: 0.7600\n",
            "Epoch 7/30\n",
            "4/4 [==============================] - 0s 99ms/step - loss: 0.6379 - accuracy: 0.7400\n",
            "Epoch 8/30\n",
            "4/4 [==============================] - 0s 97ms/step - loss: 0.6123 - accuracy: 0.7700\n",
            "Epoch 9/30\n",
            "4/4 [==============================] - 0s 99ms/step - loss: 0.5682 - accuracy: 0.8200\n",
            "Epoch 10/30\n",
            "4/4 [==============================] - 0s 96ms/step - loss: 0.5480 - accuracy: 0.7600\n",
            "Epoch 11/30\n",
            "4/4 [==============================] - 0s 99ms/step - loss: 0.5077 - accuracy: 0.7300\n",
            "Epoch 12/30\n",
            "4/4 [==============================] - 0s 95ms/step - loss: 0.4676 - accuracy: 0.7500\n",
            "Epoch 13/30\n",
            "4/4 [==============================] - 0s 100ms/step - loss: 0.4604 - accuracy: 0.8400\n",
            "Epoch 14/30\n",
            "4/4 [==============================] - 0s 97ms/step - loss: 0.3968 - accuracy: 0.9000\n",
            "Epoch 15/30\n",
            "4/4 [==============================] - 0s 100ms/step - loss: 0.4048 - accuracy: 0.8400\n",
            "Epoch 16/30\n",
            "4/4 [==============================] - 0s 94ms/step - loss: 0.3737 - accuracy: 0.8400\n",
            "Epoch 17/30\n",
            "4/4 [==============================] - 0s 99ms/step - loss: 0.3532 - accuracy: 0.8700\n",
            "Epoch 18/30\n",
            "4/4 [==============================] - 0s 96ms/step - loss: 0.3730 - accuracy: 0.8700\n",
            "Epoch 19/30\n",
            "4/4 [==============================] - 0s 100ms/step - loss: 0.2984 - accuracy: 0.8700\n",
            "Epoch 20/30\n",
            "4/4 [==============================] - 0s 98ms/step - loss: 0.2425 - accuracy: 0.9100\n",
            "Epoch 21/30\n",
            "4/4 [==============================] - 0s 98ms/step - loss: 0.3426 - accuracy: 0.8200\n",
            "Epoch 22/30\n",
            "4/4 [==============================] - 0s 96ms/step - loss: 0.3447 - accuracy: 0.8800\n",
            "Epoch 23/30\n",
            "4/4 [==============================] - 0s 96ms/step - loss: 0.3250 - accuracy: 0.8800\n",
            "Epoch 24/30\n",
            "4/4 [==============================] - 0s 96ms/step - loss: 0.2664 - accuracy: 0.8800\n",
            "Epoch 25/30\n",
            "4/4 [==============================] - 0s 97ms/step - loss: 0.2728 - accuracy: 0.8800\n",
            "Epoch 26/30\n",
            "4/4 [==============================] - 0s 94ms/step - loss: 0.2946 - accuracy: 0.8600\n",
            "Epoch 27/30\n",
            "4/4 [==============================] - 0s 104ms/step - loss: 0.3936 - accuracy: 0.8300\n",
            "Epoch 28/30\n",
            "4/4 [==============================] - 0s 93ms/step - loss: 0.3348 - accuracy: 0.8600\n",
            "Epoch 29/30\n",
            "4/4 [==============================] - 0s 100ms/step - loss: 0.3719 - accuracy: 0.8200\n",
            "Epoch 30/30\n",
            "4/4 [==============================] - 0s 95ms/step - loss: 0.2748 - accuracy: 0.8700\n"
          ],
          "name": "stdout"
        }
      ]
    },
    {
      "cell_type": "code",
      "metadata": {
        "colab": {
          "base_uri": "https://localhost:8080/"
        },
        "id": "Z4_HbEhjFTte",
        "outputId": "a6c4a020-9b34-452f-f176-a013b5505d0d"
      },
      "source": [
        "##Testing the model\n",
        "_, accuracy = model.evaluate(test_x, test_y,verbose=1)\n",
        "print(accuracy) "
      ],
      "execution_count": null,
      "outputs": [
        {
          "output_type": "stream",
          "text": [
            "1/1 [==============================] - 0s 1ms/step - loss: 0.2129 - accuracy: 1.0000\n",
            "1.0\n"
          ],
          "name": "stdout"
        }
      ]
    },
    {
      "cell_type": "code",
      "metadata": {
        "id": "fjF7GxUlp1hr"
      },
      "source": [
        ""
      ],
      "execution_count": null,
      "outputs": []
    },
    {
      "cell_type": "markdown",
      "metadata": {
        "id": "ogssR4oicql8"
      },
      "source": [
        "**4-class classification**"
      ]
    },
    {
      "cell_type": "code",
      "metadata": {
        "id": "HVVsPgkPV62A"
      },
      "source": [
        ""
      ],
      "execution_count": null,
      "outputs": []
    },
    {
      "cell_type": "code",
      "metadata": {
        "id": "M7R6ed9icqQe"
      },
      "source": [
        "#importing necessary for excel dataset upload\n",
        "import pandas as pd\n",
        "import numpy as np\n",
        "# cnn model\n",
        "from numpy import mean\n",
        "from numpy import std\n",
        "from numpy import dstack\n",
        "from pandas import read_csv\n",
        "from matplotlib import pyplot\n",
        "from keras.models import Sequential\n",
        "from keras.layers import Dense\n",
        "from keras.layers import Flatten\n",
        "from keras.layers import Dropout\n",
        "from keras.layers.convolutional import Conv1D\n",
        "from keras.layers.convolutional import MaxPooling1D\n",
        "from keras.utils import to_categorical\n",
        "import sklearn\n",
        "import keras\n",
        "from keras.models import Model\n",
        "from keras.models import Sequential\n",
        "from keras.layers import Convolution1D, ZeroPadding1D, MaxPooling1D, BatchNormalization, Activation, Dropout, Flatten, Dense\n",
        "from keras.regularizers import l2\n",
        "from keras import backend as K"
      ],
      "execution_count": null,
      "outputs": []
    },
    {
      "cell_type": "code",
      "metadata": {
        "id": "6i4xl7CFLeT6",
        "colab": {
          "base_uri": "https://localhost:8080/",
          "height": 52
        },
        "outputId": "7af8cb40-a85f-4dbd-cc78-4f4151717465"
      },
      "source": [
        "'''\n",
        "##Split for leave one subject\n",
        "x_test = x[:102,:].copy()\n",
        "y_test = y[:102,:].copy()\n",
        "\n",
        "x_train = x[102:,:].copy()\n",
        "y_train = y[102:,:].copy()\n",
        "\n",
        "x_train = x_train.reshape(x_train.shape[0],x_train.shape[1],1)\n",
        "x_test = x_test.reshape(x_test.shape[0],x_test.shape[1],1)\n",
        "'''"
      ],
      "execution_count": null,
      "outputs": [
        {
          "output_type": "execute_result",
          "data": {
            "application/vnd.google.colaboratory.intrinsic+json": {
              "type": "string"
            },
            "text/plain": [
              "'\\n##Split for leave one subject\\nx_test = x[:102,:].copy()\\ny_test = y[:102,:].copy()\\n\\nx_train = x[102:,:].copy()\\ny_train = y[102:,:].copy()\\n\\nx_train = x_train.reshape(x_train.shape[0],x_train.shape[1],1)\\nx_test = x_test.reshape(x_test.shape[0],x_test.shape[1],1)\\n'"
            ]
          },
          "metadata": {
            "tags": []
          },
          "execution_count": 10
        }
      ]
    },
    {
      "cell_type": "code",
      "metadata": {
        "colab": {
          "base_uri": "https://localhost:8080/"
        },
        "id": "cN3G2whuc50_",
        "outputId": "1ff2d32b-ea2b-4136-d12b-12081b88b4c5"
      },
      "source": [
        "df1 = pd.read_csv('/content/drive/MyDrive/breath_detect/dataset.csv')\n",
        "df2 = pd.read_csv('/content/drive/MyDrive/breath_detect/class_labels.csv')\n",
        "\n",
        "x = df1.to_numpy()[:,1:390]*100000000\n",
        "x = x[:,::2]\n",
        "y = df2.to_numpy()[:,1]\n",
        "y = to_categorical(y)\n",
        "print(x.shape,y.shape)\n",
        "\n",
        "#Shuffle data\n",
        "indices = list(range(x.shape[0]))\n",
        "np.random.shuffle(indices)\n",
        "x = x[indices]\n",
        "y=y[indices]\n",
        "x = x.reshape(x.shape[0],x.shape[1],1)"
      ],
      "execution_count": null,
      "outputs": [
        {
          "output_type": "stream",
          "text": [
            "(455, 195) (455, 4)\n"
          ],
          "name": "stdout"
        }
      ]
    },
    {
      "cell_type": "code",
      "metadata": {
        "colab": {
          "base_uri": "https://localhost:8080/",
          "height": 120
        },
        "id": "hglENiL-e4yL",
        "outputId": "48f4504c-aaf8-4656-a466-b7e72ce59598"
      },
      "source": [
        "'''\n",
        "acc = []\n",
        "sb = []\n",
        "fb = []\n",
        "db = []\n",
        "nb = []\n",
        "F1 = []\n",
        "Kappa = []\n",
        "for i in range(1):\n",
        "  #Changing data\n",
        "  from sklearn.model_selection import train_test_split\n",
        "  x_train, x_test, y_train, y_test = train_test_split(x,y, test_size=0.25, random_state=1)\n",
        "  x_train, x_val, y_train, y_val = train_test_split(x_train,y_train, test_size=2/8, random_state=1)\n",
        "\n",
        "  ##Important parameters\n",
        "  epochs = 100\n",
        "  input_s= (x_train.shape[1],1)\n",
        "\n",
        "  ##Assume each row is 200 time steps \n",
        "  #Sample-Current-Model \n",
        "  #I/P-->1DConvLayer-->BatchNormalization-->MaxPool-->1DConvLayer-->BatchNormalization-->MaxPool-->Flattenlayer-->Dense-->Dense-->Dense-->Dense-->O/p\n",
        "\n",
        "  model = Sequential()\n",
        "  model.add(Conv1D(filters=60, kernel_size=10, activation='relu',input_shape=(input_s)))\n",
        "  model.add(BatchNormalization())\n",
        "  model.add(MaxPooling1D(pool_size=8))\n",
        "  model.add(Conv1D(filters=100,kernel_size=20,activation='relu'))\n",
        "#  model.add(Conv1D(filters=60,kernel_size=10))\n",
        "#  model.add(MaxPooling1D(pool_size=4))\n",
        "  model.add(Flatten())\n",
        "  #model.add(BatchNormalization())\n",
        "  model.add(Dense(1000,activation='relu'))\n",
        "  #model.add(Dropout(0.5))\n",
        "  model.add(Dense(250,activation='relu'))\n",
        "  model.add(Dense(100,activation='relu'))\n",
        "  #model.add(Dense(50,activation='relu'))\n",
        "  #model.add(Dropout(0.3))\n",
        "  model.add(Dense(4,activation='softmax'))\n",
        "\n",
        "  ###End of model definition\n",
        "#  print(model.summary())\n",
        "  #Set loss function\n",
        "  opt = keras.optimizers.Adam(lr=0.00002)\n",
        "  model.compile(loss='categorical_crossentropy', optimizer=opt, metrics=['accuracy'])\n",
        "\n",
        "  ##Training and fitting the model\n",
        "  hist = model.fit(x_train,y_train,epochs=50,batch_size=16,validation_data=(x_test,y_test),verbose=0)\n",
        "\n",
        "  _, accuracy = model.evaluate(x_test,y_test,verbose=1)\n",
        "\n",
        "  print(accuracy)\n",
        "\n",
        "\n",
        "  Z=model.predict_classes(x_test)\n",
        "  y_test_class = np.zeros(y_test.shape[0])\n",
        "\n",
        "  for i in range(y_test.shape[0]):\n",
        "    if y_test[i][0]==1:\n",
        "      y_test_class[i]=0\n",
        "    elif y_test[i][1]==1:\n",
        "      y_test_class[i]=1\n",
        "    elif y_test[i][2]==1:\n",
        "      y_test_class[i]=2\n",
        "    elif y_test[i][3]==1:\n",
        "      y_test_class[i]=3\n",
        "  \n",
        "  cm = sklearn.metrics.confusion_matrix(y_test_class,Z)\n",
        "  print(cm) \n",
        "\n",
        "#  print(\"Normal breath accuracy : \", (cm[0,0]/np.sum(cm[:,0])) )\n",
        "#  print(\"Slow breath accuracy : \", (cm[1,1]/np.sum(cm[:,1])) )\n",
        "#  print(\"Deep breath accuracy : \", (cm[2,2]/np.sum(cm[:,2])) )\n",
        "#  print(\"Fast breath accuracy : \", (cm[3,3]/np.sum(cm[:,3])) )\n",
        "\n",
        "#  print(\"F1-Score is : \", sklearn.metrics.f1_score(y_test_class,Z,average='micro'))\n",
        "#  print(\"Kappa score is : \",sklearn.metrics.cohen_kappa_score(y_test_class,Z))\n",
        "\n",
        "\n",
        "  nb.append((cm[0,0]/np.sum(cm[:,0])))\n",
        "  sb.append((cm[1,1]/np.sum(cm[:,1])))\n",
        "  db.append((cm[2,2]/np.sum(cm[:,2])))\n",
        "  fb.append((cm[3,3]/np.sum(cm[:,3])))\n",
        "  F1.append(sklearn.metrics.f1_score(y_test_class,Z,average='micro'))\n",
        "  Kappa.append(sklearn.metrics.cohen_kappa_score(y_test_class,Z))\n",
        "  acc.append(accuracy)\n",
        "  K.clear_session()\n",
        "\n",
        "print(\"normal\",nb)\n",
        "print(\"slow\",sb)\n",
        "print(\"deep\",db)\n",
        "print(\"FAST\",fb)\n",
        "print(\"F1\",F1)\n",
        "print(\"Kappa\",Kappa)\n",
        "print(\"accuracy\",acc)\n",
        "'''"
      ],
      "execution_count": null,
      "outputs": [
        {
          "output_type": "execute_result",
          "data": {
            "application/vnd.google.colaboratory.intrinsic+json": {
              "type": "string"
            },
            "text/plain": [
              "'\\nacc = []\\nsb = []\\nfb = []\\ndb = []\\nnb = []\\nF1 = []\\nKappa = []\\nfor i in range(1):\\n  #Changing data\\n  from sklearn.model_selection import train_test_split\\n  x_train, x_test, y_train, y_test = train_test_split(x,y, test_size=0.25, random_state=1)\\n  x_train, x_val, y_train, y_val = train_test_split(x_train,y_train, test_size=2/8, random_state=1)\\n\\n  ##Important parameters\\n  epochs = 100\\n  input_s= (x_train.shape[1],1)\\n\\n  ##Assume each row is 200 time steps \\n  #Sample-Current-Model \\n  #I/P-->1DConvLayer-->BatchNormalization-->MaxPool-->1DConvLayer-->BatchNormalization-->MaxPool-->Flattenlayer-->Dense-->Dense-->Dense-->Dense-->O/p\\n\\n  model = Sequential()\\n  model.add(Conv1D(filters=60, kernel_size=10, activation=\\'relu\\',input_shape=(input_s)))\\n  model.add(BatchNormalization())\\n  model.add(MaxPooling1D(pool_size=8))\\n  model.add(Conv1D(filters=100,kernel_size=20,activation=\\'relu\\'))\\n#  model.add(Conv1D(filters=60,kernel_size=10))\\n#  model.add(MaxPooling1D(pool_size=4))\\n  model.add(Flatten())\\n  #model.add(BatchNormalization())\\n  model.add(Dense(1000,activation=\\'relu\\'))\\n  #model.add(Dropout(0.5))\\n  model.add(Dense(250,activation=\\'relu\\'))\\n  model.add(Dense(100,activation=\\'relu\\'))\\n  #model.add(Dense(50,activation=\\'relu\\'))\\n  #model.add(Dropout(0.3))\\n  model.add(Dense(4,activation=\\'softmax\\'))\\n\\n  ###End of model definition\\n#  print(model.summary())\\n  #Set loss function\\n  opt = keras.optimizers.Adam(lr=0.00002)\\n  model.compile(loss=\\'categorical_crossentropy\\', optimizer=opt, metrics=[\\'accuracy\\'])\\n\\n  ##Training and fitting the model\\n  hist = model.fit(x_train,y_train,epochs=50,batch_size=16,validation_data=(x_test,y_test),verbose=0)\\n\\n  _, accuracy = model.evaluate(x_test,y_test,verbose=1)\\n\\n  print(accuracy)\\n\\n\\n  Z=model.predict_classes(x_test)\\n  y_test_class = np.zeros(y_test.shape[0])\\n\\n  for i in range(y_test.shape[0]):\\n    if y_test[i][0]==1:\\n      y_test_class[i]=0\\n    elif y_test[i][1]==1:\\n      y_test_class[i]=1\\n    elif y_test[i][2]==1:\\n      y_test_class[i]=2\\n    elif y_test[i][3]==1:\\n      y_test_class[i]=3\\n  \\n  cm = sklearn.metrics.confusion_matrix(y_test_class,Z)\\n  print(cm) \\n\\n#  print(\"Normal breath accuracy : \", (cm[0,0]/np.sum(cm[:,0])) )\\n#  print(\"Slow breath accuracy : \", (cm[1,1]/np.sum(cm[:,1])) )\\n#  print(\"Deep breath accuracy : \", (cm[2,2]/np.sum(cm[:,2])) )\\n#  print(\"Fast breath accuracy : \", (cm[3,3]/np.sum(cm[:,3])) )\\n\\n#  print(\"F1-Score is : \", sklearn.metrics.f1_score(y_test_class,Z,average=\\'micro\\'))\\n#  print(\"Kappa score is : \",sklearn.metrics.cohen_kappa_score(y_test_class,Z))\\n\\n\\n  nb.append((cm[0,0]/np.sum(cm[:,0])))\\n  sb.append((cm[1,1]/np.sum(cm[:,1])))\\n  db.append((cm[2,2]/np.sum(cm[:,2])))\\n  fb.append((cm[3,3]/np.sum(cm[:,3])))\\n  F1.append(sklearn.metrics.f1_score(y_test_class,Z,average=\\'micro\\'))\\n  Kappa.append(sklearn.metrics.cohen_kappa_score(y_test_class,Z))\\n  acc.append(accuracy)\\n  K.clear_session()\\n\\nprint(\"normal\",nb)\\nprint(\"slow\",sb)\\nprint(\"deep\",db)\\nprint(\"FAST\",fb)\\nprint(\"F1\",F1)\\nprint(\"Kappa\",Kappa)\\nprint(\"accuracy\",acc)\\n'"
            ]
          },
          "metadata": {
            "tags": []
          },
          "execution_count": 12
        }
      ]
    },
    {
      "cell_type": "code",
      "metadata": {
        "colab": {
          "base_uri": "https://localhost:8080/"
        },
        "id": "hcc2HmwNxvfz",
        "outputId": "b2b86444-0b2e-493a-f248-cb7d27aa1d05"
      },
      "source": [
        "###Saved model\n",
        "\n",
        "\n",
        "acc = []\n",
        "sb = []\n",
        "fb = []\n",
        "db = []\n",
        "nb = []\n",
        "F1 = []\n",
        "Kappa = []\n",
        "for i in range(10):\n",
        "  #Changing data\n",
        "  df1 = pd.read_csv('/content/drive/MyDrive/breath_detect/dataset.csv')\n",
        "  df2 = pd.read_csv('/content/drive/MyDrive/breath_detect/class_labels.csv')\n",
        "\n",
        "  x = df1.to_numpy()[:,1:390]*100000000\n",
        "  x = x[:,::2]\n",
        "  y = df2.to_numpy()[:,1]\n",
        "  y = to_categorical(y)\n",
        "  print(x.shape,y.shape)\n",
        "\n",
        "  #Shuffle data\n",
        "  indices = list(range(x.shape[0]))\n",
        "  np.random.shuffle(indices)\n",
        "  x = x[indices]\n",
        "  y=y[indices]\n",
        "  x = x.reshape(x.shape[0],x.shape[1],1)\n",
        "  from sklearn.model_selection import train_test_split\n",
        "  x_train, x_test, y_train, y_test = train_test_split(x,y, test_size=0.25, random_state=1)\n",
        "  x_train, x_val, y_train, y_val = train_test_split(x_train,y_train, test_size=2/8, random_state=1)\n",
        "\n",
        "  ##Important parameters\n",
        "  epochs = 100\n",
        "  input_s= (x_train.shape[1],1)\n",
        "\n",
        "  ##Assume each row is 200 time steps \n",
        "  #Sample-Current-Model \n",
        "  #I/P-->1DConvLayer-->BatchNormalization-->MaxPool-->1DConvLayer-->BatchNormalization-->MaxPool-->Flattenlayer-->Dense-->Dense-->Dense-->Dense-->O/p\n",
        "  model = keras.models.load_model('/content/drive/MyDrive/breath_detect_model')\n",
        "\n",
        "  Z=model.predict_classes(x_test)\n",
        "  _, accuracy = model.evaluate(x_test,y_test,verbose=1)\n",
        "  y_test_class = np.zeros(y_test.shape[0])\n",
        "\n",
        "  for i in range(y_test.shape[0]):\n",
        "    if y_test[i][0]==1:\n",
        "      y_test_class[i]=0\n",
        "    elif y_test[i][1]==1:\n",
        "      y_test_class[i]=1\n",
        "    elif y_test[i][2]==1:\n",
        "      y_test_class[i]=2\n",
        "    elif y_test[i][3]==1:\n",
        "      y_test_class[i]=3\n",
        "  \n",
        "  cm = sklearn.metrics.confusion_matrix(y_test_class,Z)\n",
        "  print(cm) \n",
        "\n",
        "#  print(\"Normal breath accuracy : \", (cm[0,0]/np.sum(cm[:,0])) )\n",
        "#  print(\"Slow breath accuracy : \", (cm[1,1]/np.sum(cm[:,1])) )\n",
        "#  print(\"Deep breath accuracy : \", (cm[2,2]/np.sum(cm[:,2])) )\n",
        "#  print(\"Fast breath accuracy : \", (cm[3,3]/np.sum(cm[:,3])) )\n",
        "\n",
        "#  print(\"F1-Score is : \", sklearn.metrics.f1_score(y_test_class,Z,average='micro'))\n",
        "#  print(\"Kappa score is : \",sklearn.metrics.cohen_kappa_score(y_test_class,Z))\n",
        "\n",
        "\n",
        "  nb.append((cm[0,0]/np.sum(cm[:,0])))\n",
        "  sb.append((cm[1,1]/np.sum(cm[:,1])))\n",
        "  db.append((cm[2,2]/np.sum(cm[:,2])))\n",
        "  fb.append((cm[3,3]/np.sum(cm[:,3])))\n",
        "  F1.append(sklearn.metrics.f1_score(y_test_class,Z,average='micro'))\n",
        "  Kappa.append(sklearn.metrics.cohen_kappa_score(y_test_class,Z))\n",
        "  acc.append(accuracy)\n",
        "  K.clear_session()\n",
        "\n",
        "print(\"normal\",nb)\n",
        "print(\"slow\",sb)\n",
        "print(\"deep\",db)\n",
        "print(\"FAST\",fb)\n",
        "print(\"F1\",F1)\n",
        "print(\"Kappa\",Kappa)\n",
        "print(\"accuracy\",acc)\n"
      ],
      "execution_count": null,
      "outputs": [
        {
          "output_type": "stream",
          "text": [
            "(455, 195) (455, 4)\n"
          ],
          "name": "stdout"
        },
        {
          "output_type": "stream",
          "text": [
            "/usr/local/lib/python3.7/dist-packages/tensorflow/python/keras/engine/sequential.py:450: UserWarning: `model.predict_classes()` is deprecated and will be removed after 2021-01-01. Please use instead:* `np.argmax(model.predict(x), axis=-1)`,   if your model does multi-class classification   (e.g. if it uses a `softmax` last-layer activation).* `(model.predict(x) > 0.5).astype(\"int32\")`,   if your model does binary classification   (e.g. if it uses a `sigmoid` last-layer activation).\n",
            "  warnings.warn('`model.predict_classes()` is deprecated and '\n"
          ],
          "name": "stderr"
        },
        {
          "output_type": "stream",
          "text": [
            "4/4 [==============================] - 0s 7ms/step - loss: 0.3061 - accuracy: 0.9561\n",
            "[[27  1  0  0]\n",
            " [ 1 28  1  0]\n",
            " [ 0  2 30  0]\n",
            " [ 0  0  0 24]]\n",
            "(455, 195) (455, 4)\n",
            "4/4 [==============================] - 0s 7ms/step - loss: 0.2620 - accuracy: 0.9737\n",
            "[[24  0  0  1]\n",
            " [ 0 29  1  0]\n",
            " [ 0  1 40  0]\n",
            " [ 0  0  0 18]]\n",
            "(455, 195) (455, 4)\n",
            "4/4 [==============================] - 0s 10ms/step - loss: 0.2877 - accuracy: 0.9649\n",
            "[[21  1  0  0]\n",
            " [ 0 25  2  0]\n",
            " [ 0  1 39  0]\n",
            " [ 0  0  0 25]]\n",
            "(455, 195) (455, 4)\n",
            "4/4 [==============================] - 0s 8ms/step - loss: 0.3422 - accuracy: 0.9737\n",
            "[[27  1  0  0]\n",
            " [ 0 32  1  0]\n",
            " [ 0  1 33  0]\n",
            " [ 0  0  0 19]]\n",
            "(455, 195) (455, 4)\n",
            "4/4 [==============================] - 0s 7ms/step - loss: 0.2534 - accuracy: 0.9649\n",
            "[[31  0  0  0]\n",
            " [ 1 18  2  0]\n",
            " [ 0  1 40  0]\n",
            " [ 0  0  0 21]]\n",
            "(455, 195) (455, 4)\n",
            "4/4 [==============================] - 0s 8ms/step - loss: 0.2545 - accuracy: 0.9737\n",
            "[[23  1  0  0]\n",
            " [ 1 23  0  0]\n",
            " [ 0  1 30  0]\n",
            " [ 0  0  0 35]]\n",
            "(455, 195) (455, 4)\n",
            "4/4 [==============================] - 0s 7ms/step - loss: 0.2680 - accuracy: 0.9737\n",
            "[[20  0  0  0]\n",
            " [ 1 24  1  0]\n",
            " [ 0  1 39  0]\n",
            " [ 0  0  0 28]]\n",
            "(455, 195) (455, 4)\n",
            "4/4 [==============================] - 0s 8ms/step - loss: 0.2713 - accuracy: 0.9649\n",
            "[[26  0  0  0]\n",
            " [ 2 22  1  0]\n",
            " [ 0  1 43  0]\n",
            " [ 0  0  0 19]]\n",
            "(455, 195) (455, 4)\n",
            "4/4 [==============================] - 0s 7ms/step - loss: 0.3178 - accuracy: 0.9561\n",
            "[[35  1  0  1]\n",
            " [ 1 24  1  0]\n",
            " [ 0  1 28  0]\n",
            " [ 0  0  0 22]]\n",
            "(455, 195) (455, 4)\n",
            "4/4 [==============================] - 0s 7ms/step - loss: 0.2566 - accuracy: 0.9825\n",
            "[[28  1  0  0]\n",
            " [ 0 24  1  0]\n",
            " [ 0  0 32  0]\n",
            " [ 0  0  0 28]]\n",
            "normal [0.9642857142857143, 1.0, 1.0, 1.0, 0.96875, 0.9583333333333334, 0.9523809523809523, 0.9285714285714286, 0.9722222222222222, 1.0]\n",
            "slow [0.9032258064516129, 0.9666666666666667, 0.9259259259259259, 0.9411764705882353, 0.9473684210526315, 0.92, 0.96, 0.9565217391304348, 0.9230769230769231, 0.96]\n",
            "deep [0.967741935483871, 0.975609756097561, 0.9512195121951219, 0.9705882352941176, 0.9523809523809523, 1.0, 0.975, 0.9772727272727273, 0.9655172413793104, 0.9696969696969697]\n",
            "FAST [1.0, 0.9473684210526315, 1.0, 1.0, 1.0, 1.0, 1.0, 1.0, 0.9565217391304348, 1.0]\n",
            "F1 [0.956140350877193, 0.9736842105263158, 0.9649122807017544, 0.9736842105263158, 0.9649122807017544, 0.9736842105263158, 0.9736842105263158, 0.9649122807017544, 0.956140350877193, 0.9824561403508771]\n",
            "Kappa [0.9413218035824583, 0.9638973925894648, 0.9522012578616352, 0.9643787105509842, 0.9517051472145732, 0.9646145887221935, 0.9641584573464682, 0.9514687100893997, 0.9408775023337828, 0.9765407963782282]\n",
            "accuracy [0.9561403393745422, 0.9736841917037964, 0.9649122953414917, 0.9736841917037964, 0.9649122953414917, 0.9736841917037964, 0.9736841917037964, 0.9649122953414917, 0.9561403393745422, 0.9824561476707458]\n"
          ],
          "name": "stdout"
        }
      ]
    },
    {
      "cell_type": "code",
      "metadata": {
        "colab": {
          "base_uri": "https://localhost:8080/"
        },
        "id": "se336pPW0jzi",
        "outputId": "145f83ec-400a-4771-a3d1-79ae75bb7a0f"
      },
      "source": [
        "print(\"normal\",sum(nb)/len(nb))\n",
        "print(\"slow\",sum(sb)/len(sb))\n",
        "print(\"deep\",sum(db)/len(db))\n",
        "print(\"FAST\",sum(fb)/len(fb))\n",
        "print(\"F1\",sum(F1)/len(F1))\n",
        "print(\"Kappa\",sum(Kappa)/len(Kappa))\n",
        "print(\"accuracy\",sum(acc)/len(acc))"
      ],
      "execution_count": null,
      "outputs": [
        {
          "output_type": "stream",
          "text": [
            "normal 0.974454365079365\n",
            "slow 0.940396195289243\n",
            "deep 0.9705027329800633\n",
            "FAST 0.9903890160183068\n",
            "F1 0.968421052631579\n",
            "Kappa 0.957116436666919\n",
            "accuracy 0.9684210479259491\n"
          ],
          "name": "stdout"
        }
      ]
    },
    {
      "cell_type": "code",
      "metadata": {
        "colab": {
          "base_uri": "https://localhost:8080/",
          "height": 35
        },
        "id": "0neCx6KYej6X",
        "outputId": "7406315b-5e89-4399-cb6f-7af23d98243a"
      },
      "source": [
        "'''\n",
        "model.save('/content/drive/MyDrive/breath_detect_model')\n",
        "'''"
      ],
      "execution_count": null,
      "outputs": [
        {
          "output_type": "execute_result",
          "data": {
            "application/vnd.google.colaboratory.intrinsic+json": {
              "type": "string"
            },
            "text/plain": [
              "\"\\nmodel.save('/content/drive/MyDrive/breath_detect_model')\\n\""
            ]
          },
          "metadata": {
            "tags": []
          },
          "execution_count": 14
        }
      ]
    },
    {
      "cell_type": "code",
      "metadata": {
        "id": "YUPBBHBZgOxA"
      },
      "source": [
        "h = keras.models.load_model('/content/drive/MyDrive/breath_detect_model')\n",
        "Z=h.predict_classes(x_test)\n",
        "#Z = to_categorical(Z)"
      ],
      "execution_count": null,
      "outputs": []
    },
    {
      "cell_type": "code",
      "metadata": {
        "id": "p-xuNvIInG7N"
      },
      "source": [
        "y_test_class = np.zeros(y_test.shape[0])\n",
        "\n",
        "for i in range(y_test.shape[0]):\n",
        "  if y_test[i][0]==1:\n",
        "    y_test_class[i]=0\n",
        "  elif y_test[i][1]==1:\n",
        "    y_test_class[i]=1\n",
        "  elif y_test[i][2]==1:\n",
        "    y_test_class[i]=2\n",
        "  elif y_test[i][3]==1:\n",
        "    y_test_class[i]=3"
      ],
      "execution_count": null,
      "outputs": []
    },
    {
      "cell_type": "code",
      "metadata": {
        "colab": {
          "base_uri": "https://localhost:8080/"
        },
        "id": "PP562Kl4nicU",
        "outputId": "7f1dcdcf-2249-4f9d-95a3-a22aed1bc48c"
      },
      "source": [
        "y_test_class"
      ],
      "execution_count": null,
      "outputs": [
        {
          "output_type": "execute_result",
          "data": {
            "text/plain": [
              "array([3., 3., 1., 2., 1., 3., 1., 0., 1., 0., 0., 2., 2., 0., 0., 1., 3.,\n",
              "       3., 3., 1., 2., 3., 2., 0., 1., 2., 3., 0., 0., 1., 2., 2., 2., 3.,\n",
              "       2., 2., 1., 3., 2., 1., 2., 0., 3., 1., 0., 3., 0., 1., 3., 2., 2.,\n",
              "       2., 2., 1., 1., 1., 2., 0., 0., 1., 3., 0., 2., 2., 0., 0., 1., 2.,\n",
              "       2., 2., 3., 3., 2., 3., 3., 1., 2., 2., 0., 2., 3., 0., 1., 3., 2.,\n",
              "       2., 1., 2., 1., 2., 2., 3., 2., 2., 1., 2., 2., 1., 3., 0., 0., 2.,\n",
              "       0., 0., 2., 1., 2., 2., 0., 1., 2., 0., 1., 0.])"
            ]
          },
          "metadata": {
            "tags": []
          },
          "execution_count": 7
        }
      ]
    },
    {
      "cell_type": "code",
      "metadata": {
        "colab": {
          "base_uri": "https://localhost:8080/"
        },
        "id": "H6EAOVqbk4Ke",
        "outputId": "4a8458d6-4345-4985-c374-f53aeb6b9fb7"
      },
      "source": [
        "import sklearn\n",
        "cm = sklearn.metrics.confusion_matrix(y_test_class,Z)\n",
        "print(cm)\n",
        "label_names = ['Normal', 'Slow', 'Fast', 'Deep']"
      ],
      "execution_count": null,
      "outputs": [
        {
          "output_type": "stream",
          "text": [
            "[[25  0  0  0]\n",
            " [ 1 23  2  0]\n",
            " [ 0  0 41  0]\n",
            " [ 0  0  0 22]]\n"
          ],
          "name": "stdout"
        }
      ]
    },
    {
      "cell_type": "code",
      "metadata": {
        "colab": {
          "base_uri": "https://localhost:8080/"
        },
        "id": "pkJEPXW1Ui4i",
        "outputId": "ca74555a-0c6a-404d-f4ce-29e0e298a733"
      },
      "source": [
        "print(sklearn.metrics.classification_report(y_test_class,Z, target_names=label_names))"
      ],
      "execution_count": null,
      "outputs": [
        {
          "output_type": "stream",
          "text": [
            "              precision    recall  f1-score   support\n",
            "\n",
            "      Normal       0.96      1.00      0.98        25\n",
            "        Slow       1.00      0.88      0.94        26\n",
            "        Fast       0.95      1.00      0.98        41\n",
            "        Deep       1.00      1.00      1.00        22\n",
            "\n",
            "    accuracy                           0.97       114\n",
            "   macro avg       0.98      0.97      0.97       114\n",
            "weighted avg       0.97      0.97      0.97       114\n",
            "\n"
          ],
          "name": "stdout"
        }
      ]
    },
    {
      "cell_type": "code",
      "metadata": {
        "colab": {
          "base_uri": "https://localhost:8080/"
        },
        "id": "RfjWYKwGRlKs",
        "outputId": "786c0687-278b-4f91-dd00-9f5dd4bb7fc4"
      },
      "source": [
        "print(\"Normal breath accuracy : \", (cm[0,0]/np.sum(cm[:,0])) )\n",
        "print(\"Slow breath accuracy : \", (cm[1,1]/np.sum(cm[:,1])) )\n",
        "print(\"Deep breath accuracy : \", (cm[2,2]/np.sum(cm[:,2])) )\n",
        "print(\"Fast breath accuracy : \", (cm[3,3]/np.sum(cm[:,3])) )"
      ],
      "execution_count": null,
      "outputs": [
        {
          "output_type": "stream",
          "text": [
            "Normal breath accuracy :  0.9565217391304348\n",
            "Slow breath accuracy :  0.8518518518518519\n",
            "Deep breath accuracy :  0.9459459459459459\n",
            "Fast breath accuracy :  1.0\n"
          ],
          "name": "stdout"
        }
      ]
    },
    {
      "cell_type": "code",
      "metadata": {
        "colab": {
          "base_uri": "https://localhost:8080/",
          "height": 315
        },
        "id": "VzbEP2STllhE",
        "outputId": "d828f01d-c21c-4cf1-d13f-1c603e90ce89"
      },
      "source": [
        "import matplotlib.pyplot as plt\n",
        "\n",
        "loss_train = hist.history['accuracy']\n",
        "loss_val = hist.history['val_accuracy']\n",
        "epochs = range(0,50)\n",
        "plt.plot(epochs, loss_train, 'g', label='training accuracy')\n",
        "plt.plot(epochs, loss_val, 'b', label='validation accuracy')\n",
        "#plt.title('Training and Validation accuracy')\n",
        "plt.xlabel('Epochs', fontsize=30, fontweight='bold')\n",
        "plt.ylabel('Accuracy',fontsize=30,  fontweight='bold')\n",
        "font = {'family' : 'normal',\n",
        "        'weight' : 'bold',\n",
        "        'size'   : 10}\n",
        "\n",
        "plt.rc('font', **font)\n",
        "\n",
        "plt.legend()\n",
        "plt.show()"
      ],
      "execution_count": null,
      "outputs": [
        {
          "output_type": "stream",
          "text": [
            "findfont: Font family ['normal'] not found. Falling back to DejaVu Sans.\n"
          ],
          "name": "stderr"
        },
        {
          "output_type": "display_data",
          "data": {
            "image/png": "[encoded data removed]",
            "text/plain": [
              "<Figure size 432x288 with 1 Axes>"
            ]
          },
          "metadata": {
            "tags": [],
            "needs_background": "light"
          }
        }
      ]
    },
    {
      "cell_type": "code",
      "metadata": {
        "colab": {
          "base_uri": "https://localhost:8080/",
          "height": 316
        },
        "id": "Mq4SD5s-2bn8",
        "outputId": "fbbcbd2a-3110-427b-e278-743833165422"
      },
      "source": [
        "loss_train = hist.history['loss']\n",
        "loss_val = hist.history['val_loss']\n",
        "epochs = range(0,50)\n",
        "plt.plot(epochs, loss_train, 'g', label='Training loss')\n",
        "plt.plot(epochs, loss_val, 'b', label='validation loss')\n",
        "#plt.title('Training and Validation loss')\n",
        "plt.xlabel('Epochs', fontsize=30, fontweight='bold')\n",
        "plt.ylabel('Loss',fontsize=30,fontweight='bold')\n",
        "plt.legend()\n",
        "font = {'family' : 'normal',\n",
        "        'weight' : 'bold',\n",
        "        'size'   : 10}\n",
        "\n",
        "plt.rc('font', **font)\n",
        "\n",
        "plt.show()"
      ],
      "execution_count": null,
      "outputs": [
        {
          "output_type": "stream",
          "text": [
            "findfont: Font family ['normal'] not found. Falling back to DejaVu Sans.\n"
          ],
          "name": "stderr"
        },
        {
          "output_type": "display_data",
          "data": {
            "image/png": "[encoded data removed]",
            "text/plain": [
              "<Figure size 432x288 with 1 Axes>"
            ]
          },
          "metadata": {
            "tags": [],
            "needs_background": "light"
          }
        }
      ]
    },
    {
      "cell_type": "code",
      "metadata": {
        "id": "yFSDih5zY5Qo",
        "colab": {
          "base_uri": "https://localhost:8080/",
          "height": 1000
        },
        "outputId": "dda06533-8b2b-42f1-8626-38e6d87b9e8d"
      },
      "source": [
        "epochs = 100\n",
        "input_s= (x_train.shape[1],1)\n",
        "\n",
        "  ##Assume each row is 200 time steps \n",
        "  #Sample-Current-Model \n",
        "  #I/P-->1DConvLayer-->BatchNormalization-->MaxPool-->1DConvLayer-->BatchNormalization-->MaxPool-->Flattenlayer-->Dense-->Dense-->Dense-->Dense-->O/p\n",
        "\n",
        "model = Sequential()\n",
        "model.add(Conv1D(filters=60, kernel_size=3, activation='relu',input_shape=(input_s)))\n",
        "model.add(BatchNormalization())\n",
        "#model.add(MaxPooling1D(pool_size=2))\n",
        "model.add(MaxPooling1D(pool_size=3, strides = 3))\n",
        "model.add(BatchNormalization())\n",
        "model.add(Conv1D(filters=60, kernel_size=7, activation='relu'))\n",
        "#model.add(Dropout(0.7))\n",
        "model.add(MaxPooling1D(pool_size=3, strides = 3))\n",
        "model.add(Conv1D(filters=120, kernel_size=5,))\n",
        "model.add(MaxPooling1D(pool_size=3, strides = 3))\n",
        "model.add(Conv1D(filters=120,kernel_size=5,activity_regularizer=l2(0.0001)))\n",
        "model.add(Flatten())\n",
        "model.add(Dense(2000, activation='relu'))\n",
        "model.add(BatchNormalization())\n",
        "#model.add(Dropout(0.09))\n",
        "model.add(Dense(1000, activation='relu',activity_regularizer=l2(0.0001)))\n",
        "model.add(Dense(500, activation='relu',activity_regularizer=l2(0.0001)))\n",
        "#model.add(Dropout(0.15))\n",
        "model.add(Dense(100,activation='relu'))\n",
        "model.add(Dense(4,activation='softmax'))\n",
        "###End of model definition\n",
        "#print(model.summary())\n",
        "#Set loss function\n",
        "opt = keras.optimizers.RMSprop(lr=0.000002)\n",
        "model.compile(loss='mse', optimizer=opt, metrics=['accuracy'])\n",
        "##Training and fitting the model\n",
        "hist = model.fit(x_train,y_train,epochs=35,batch_size=16,validation_data=(x_val,y_val),verbose=1)\n",
        "_, accuracy = model.evaluate(x_test,y_test,verbose=1)\n",
        "print(accuracy)\n",
        "Z=model.predict_classes(x_test)\n",
        "y_test_class = np.zeros(y_test.shape[0])\n",
        "for i in range(y_test.shape[0]):\n",
        "  if y_test[i][0]==1:\n",
        "   y_test_class[i]=0\n",
        "  elif y_test[i][1]==1:\n",
        "    y_test_class[i]=1\n",
        "  elif y_test[i][2]==1:\n",
        "    y_test_class[i]=2\n",
        "  elif y_test[i][3]==1:\n",
        "    y_test_class[i]=3\n",
        "\n",
        "import sklearn\n",
        "cm = sklearn.metrics.confusion_matrix(y_test_class,Z)\n",
        "print(cm) \n",
        "print(\"Normal breath accuracy : \", (cm[0,0]/np.sum(cm[:,0])) )\n",
        "print(\"Slow breath accuracy : \", (cm[1,1]/np.sum(cm[:,1])) )\n",
        "print(\"Deep breath accuracy : \", (cm[2,2]/np.sum(cm[:,2])) )\n",
        "print(\"Fast breath accuracy : \", (cm[3,3]/np.sum(cm[:,3])) )\n",
        "\n",
        "K.clear_session()\n",
        "\n",
        "import matplotlib.pyplot as plt\n",
        "\n",
        "loss_train = hist.history['accuracy']\n",
        "loss_val = hist.history['val_accuracy']\n",
        "epochs = range(0,35)\n",
        "plt.plot(epochs, loss_train, 'g', label='training accuracy')\n",
        "plt.plot(epochs, loss_val, 'b', label='validation accuracy')\n",
        "plt.title('Training and Validation accuracy')\n",
        "plt.xlabel('Epochs')\n",
        "plt.ylabel('Accuracy')\n",
        "plt.legend()\n",
        "plt.show()\n",
        "\n",
        "loss_train = hist.history['loss']\n",
        "loss_val = hist.history['val_loss']\n",
        "epochs = range(0,35)\n",
        "plt.plot(epochs, loss_train, 'g', label='Training loss')\n",
        "plt.plot(epochs, loss_val, 'b', label='validation loss')\n",
        "plt.title('Training and Validation loss')\n",
        "plt.xlabel('Epochs')\n",
        "plt.ylabel('Loss')\n",
        "plt.legend()\n",
        "plt.show()"
      ],
      "execution_count": null,
      "outputs": [
        {
          "output_type": "stream",
          "text": [
            "Epoch 1/35\n",
            "16/16 [==============================] - 1s 86ms/step - loss: 0.1988 - accuracy: 0.3789 - val_loss: 0.1886 - val_accuracy: 0.2558\n",
            "Epoch 2/35\n",
            "16/16 [==============================] - 1s 74ms/step - loss: 0.1775 - accuracy: 0.6797 - val_loss: 0.1869 - val_accuracy: 0.2558\n",
            "Epoch 3/35\n",
            "16/16 [==============================] - 1s 73ms/step - loss: 0.1636 - accuracy: 0.8477 - val_loss: 0.1856 - val_accuracy: 0.2907\n",
            "Epoch 4/35\n",
            "16/16 [==============================] - 1s 75ms/step - loss: 0.1513 - accuracy: 0.8164 - val_loss: 0.1846 - val_accuracy: 0.3256\n",
            "Epoch 5/35\n",
            "16/16 [==============================] - 1s 74ms/step - loss: 0.1456 - accuracy: 0.7734 - val_loss: 0.1836 - val_accuracy: 0.4070\n",
            "Epoch 6/35\n",
            "16/16 [==============================] - 1s 74ms/step - loss: 0.1388 - accuracy: 0.8203 - val_loss: 0.1825 - val_accuracy: 0.7442\n",
            "Epoch 7/35\n",
            "16/16 [==============================] - 1s 74ms/step - loss: 0.1340 - accuracy: 0.8164 - val_loss: 0.1816 - val_accuracy: 0.7093\n",
            "Epoch 8/35\n",
            "16/16 [==============================] - 1s 73ms/step - loss: 0.1302 - accuracy: 0.8242 - val_loss: 0.1805 - val_accuracy: 0.7558\n",
            "Epoch 9/35\n",
            "16/16 [==============================] - 1s 73ms/step - loss: 0.1297 - accuracy: 0.8008 - val_loss: 0.1794 - val_accuracy: 0.7674\n",
            "Epoch 10/35\n",
            "16/16 [==============================] - 1s 74ms/step - loss: 0.1261 - accuracy: 0.7930 - val_loss: 0.1782 - val_accuracy: 0.7791\n",
            "Epoch 11/35\n",
            "16/16 [==============================] - 1s 73ms/step - loss: 0.1172 - accuracy: 0.8359 - val_loss: 0.1768 - val_accuracy: 0.7907\n",
            "Epoch 12/35\n",
            "16/16 [==============================] - 1s 74ms/step - loss: 0.1254 - accuracy: 0.7891 - val_loss: 0.1755 - val_accuracy: 0.8256\n",
            "Epoch 13/35\n",
            "16/16 [==============================] - 1s 75ms/step - loss: 0.1126 - accuracy: 0.8594 - val_loss: 0.1740 - val_accuracy: 0.8488\n",
            "Epoch 14/35\n",
            "16/16 [==============================] - 1s 73ms/step - loss: 0.1152 - accuracy: 0.8164 - val_loss: 0.1724 - val_accuracy: 0.9302\n",
            "Epoch 15/35\n",
            "16/16 [==============================] - 1s 74ms/step - loss: 0.1171 - accuracy: 0.8086 - val_loss: 0.1707 - val_accuracy: 0.9419\n",
            "Epoch 16/35\n",
            "16/16 [==============================] - 1s 74ms/step - loss: 0.1102 - accuracy: 0.8242 - val_loss: 0.1688 - val_accuracy: 0.9302\n",
            "Epoch 17/35\n",
            "16/16 [==============================] - 1s 74ms/step - loss: 0.1155 - accuracy: 0.8008 - val_loss: 0.1670 - val_accuracy: 0.9651\n",
            "Epoch 18/35\n",
            "16/16 [==============================] - 1s 75ms/step - loss: 0.1178 - accuracy: 0.7734 - val_loss: 0.1651 - val_accuracy: 0.9186\n",
            "Epoch 19/35\n",
            "16/16 [==============================] - 1s 74ms/step - loss: 0.1024 - accuracy: 0.8359 - val_loss: 0.1626 - val_accuracy: 0.9186\n",
            "Epoch 20/35\n",
            "16/16 [==============================] - 1s 74ms/step - loss: 0.1017 - accuracy: 0.8125 - val_loss: 0.1604 - val_accuracy: 0.8488\n",
            "Epoch 21/35\n",
            "16/16 [==============================] - 1s 75ms/step - loss: 0.1112 - accuracy: 0.7773 - val_loss: 0.1577 - val_accuracy: 0.8721\n",
            "Epoch 22/35\n",
            "16/16 [==============================] - 1s 73ms/step - loss: 0.0954 - accuracy: 0.8828 - val_loss: 0.1548 - val_accuracy: 0.8721\n",
            "Epoch 23/35\n",
            "16/16 [==============================] - 1s 74ms/step - loss: 0.1010 - accuracy: 0.7852 - val_loss: 0.1521 - val_accuracy: 0.8721\n",
            "Epoch 24/35\n",
            "16/16 [==============================] - 1s 74ms/step - loss: 0.1007 - accuracy: 0.8281 - val_loss: 0.1491 - val_accuracy: 0.8605\n",
            "Epoch 25/35\n",
            "16/16 [==============================] - 1s 74ms/step - loss: 0.0969 - accuracy: 0.7852 - val_loss: 0.1463 - val_accuracy: 0.8488\n",
            "Epoch 26/35\n",
            "16/16 [==============================] - 1s 75ms/step - loss: 0.0915 - accuracy: 0.8633 - val_loss: 0.1418 - val_accuracy: 0.8837\n",
            "Epoch 27/35\n",
            "16/16 [==============================] - 1s 74ms/step - loss: 0.0978 - accuracy: 0.8164 - val_loss: 0.1382 - val_accuracy: 0.8837\n",
            "Epoch 28/35\n",
            "16/16 [==============================] - 1s 73ms/step - loss: 0.1078 - accuracy: 0.7500 - val_loss: 0.1353 - val_accuracy: 0.8605\n",
            "Epoch 29/35\n",
            "16/16 [==============================] - 1s 74ms/step - loss: 0.1010 - accuracy: 0.7930 - val_loss: 0.1316 - val_accuracy: 0.8721\n",
            "Epoch 30/35\n",
            "16/16 [==============================] - 1s 74ms/step - loss: 0.0926 - accuracy: 0.8320 - val_loss: 0.1272 - val_accuracy: 0.8721\n",
            "Epoch 31/35\n",
            "16/16 [==============================] - 1s 74ms/step - loss: 0.0824 - accuracy: 0.8906 - val_loss: 0.1219 - val_accuracy: 0.8721\n",
            "Epoch 32/35\n",
            "16/16 [==============================] - 1s 74ms/step - loss: 0.0884 - accuracy: 0.8125 - val_loss: 0.1166 - val_accuracy: 0.8721\n",
            "Epoch 33/35\n",
            "16/16 [==============================] - 1s 75ms/step - loss: 0.0946 - accuracy: 0.8086 - val_loss: 0.1120 - val_accuracy: 0.8837\n",
            "Epoch 34/35\n",
            "16/16 [==============================] - 1s 75ms/step - loss: 0.0882 - accuracy: 0.8281 - val_loss: 0.1076 - val_accuracy: 0.8837\n",
            "Epoch 35/35\n",
            "16/16 [==============================] - 1s 74ms/step - loss: 0.0933 - accuracy: 0.8477 - val_loss: 0.1021 - val_accuracy: 0.9767\n",
            "4/4 [==============================] - 0s 15ms/step - loss: 0.6815 - accuracy: 0.9386\n",
            "0.9385964870452881\n",
            "[[26  2  0  0]\n",
            " [ 0 24  0  0]\n",
            " [ 0  3 37  0]\n",
            " [ 0  0  2 20]]\n",
            "Normal breath accuracy :  1.0\n",
            "Slow breath accuracy :  0.8275862068965517\n",
            "Deep breath accuracy :  0.9487179487179487\n",
            "Fast breath accuracy :  1.0\n"
          ],
          "name": "stdout"
        },
        {
          "output_type": "display_data",
          "data": {
            "image/png": "[encoded data removed]",
            "text/plain": [
              "<Figure size 432x288 with 1 Axes>"
            ]
          },
          "metadata": {
            "tags": [],
            "needs_background": "light"
          }
        },
        {
          "output_type": "display_data",
          "data": {
            "image/png": "[encoded data removed]",
            "text/plain": [
              "<Figure size 432x288 with 1 Axes>"
            ]
          },
          "metadata": {
            "tags": [],
            "needs_background": "light"
          }
        }
      ]
    },
    {
      "cell_type": "code",
      "metadata": {
        "id": "Fwd3laWSKfAw"
      },
      "source": [
        ""
      ],
      "execution_count": null,
      "outputs": []
    }
  ]
}